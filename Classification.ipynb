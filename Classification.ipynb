{
 "cells": [
  {
   "cell_type": "code",
   "execution_count": 70,
   "id": "29e954cd",
   "metadata": {},
   "outputs": [],
   "source": [
    "import pandas as pd\n",
    "import numpy as np\n",
    "import matplotlib.pyplot as plt\n",
    "from sklearn import preprocessing, svm\n",
    "from sklearn.model_selection import train_test_split\n",
    "from sklearn.linear_model import LogisticRegression\n",
    "import seaborn as sns\n",
    "from numpy import asarray\n",
    "from sklearn.preprocessing import MinMaxScaler\n",
    "from sklearn.metrics import mean_squared_error\n",
    "from sklearn.metrics import confusion_matrix\n",
    "from sklearn.metrics import f1_score\n",
    "from sklearn import linear_model\n",
    "from sklearn.preprocessing import PolynomialFeatures\n",
    "from sklearn.decomposition import PCA"
   ]
  },
  {
   "cell_type": "code",
   "execution_count": 71,
   "id": "fab127b1",
   "metadata": {},
   "outputs": [
    {
     "name": "stdout",
     "output_type": "stream",
     "text": [
      "      Call Failure  Complains  Subscription Length  Charge Amount  \\\n",
      "0                8          0                   38              0   \n",
      "1                0          0                   39              0   \n",
      "2               10          0                   37              0   \n",
      "3               10          0                   38              0   \n",
      "4                3          0                   38              0   \n",
      "...            ...        ...                  ...            ...   \n",
      "3145            21          0                   19              2   \n",
      "3146            17          0                   17              1   \n",
      "3147            13          0                   18              4   \n",
      "3148             7          0                   11              2   \n",
      "3149             8          1                   11              2   \n",
      "\n",
      "      Seconds of Use  Frequency of use  Frequency of SMS  \\\n",
      "0               4370                71                 5   \n",
      "1                318                 5                 7   \n",
      "2               2453                60               359   \n",
      "3               4198                66                 1   \n",
      "4               2393                58                 2   \n",
      "...              ...               ...               ...   \n",
      "3145            6697               147                92   \n",
      "3146            9237               177                80   \n",
      "3147            3157                51                38   \n",
      "3148            4695                46               222   \n",
      "3149            1792                25                 7   \n",
      "\n",
      "      Distinct Called Numbers  Age Group  Tariff Plan  Status  Age  \\\n",
      "0                          17          3            1       1   30   \n",
      "1                           4          2            1       2   25   \n",
      "2                          24          3            1       1   30   \n",
      "3                          35          1            1       1   15   \n",
      "4                          33          1            1       1   15   \n",
      "...                       ...        ...          ...     ...  ...   \n",
      "3145                       44          2            2       1   25   \n",
      "3146                       42          5            1       1   55   \n",
      "3147                       21          3            1       1   30   \n",
      "3148                       12          3            1       1   30   \n",
      "3149                        9          3            1       1   30   \n",
      "\n",
      "      Customer Value  Churn  \n",
      "0            197.640      0  \n",
      "1             46.035      0  \n",
      "2           1536.520      0  \n",
      "3            240.020      0  \n",
      "4            145.805      0  \n",
      "...              ...    ...  \n",
      "3145         721.980      0  \n",
      "3146         261.210      0  \n",
      "3147         280.320      0  \n",
      "3148        1077.640      0  \n",
      "3149         100.680      1  \n",
      "\n",
      "[3150 rows x 14 columns]\n"
     ]
    }
   ],
   "source": [
    "# customer churn dataset\n",
    "df = pd.read_csv(r'C:\\Users\\vidha\\Desktop\\IISc\\CP218 - Theory and applications of bayesian learning\\Project2\\Datasets\\Iranian-Churn-Dataset-Data-Set\\Customer Churn.csv')\n",
    "print(df)"
   ]
  },
  {
   "cell_type": "code",
   "execution_count": 72,
   "id": "67023c89",
   "metadata": {},
   "outputs": [
    {
     "data": {
      "text/plain": [
       "Call Failure              -0.008987\n",
       "Complains                  0.532053\n",
       "Subscription Length       -0.032588\n",
       "Charge Amount             -0.202305\n",
       "Seconds of Use            -0.298935\n",
       "Frequency of use          -0.303337\n",
       "Frequency of SMS          -0.220754\n",
       "Distinct Called Numbers   -0.278867\n",
       "Age Group                 -0.014550\n",
       "Tariff Plan               -0.105853\n",
       "Status                     0.498976\n",
       "Age                       -0.017705\n",
       "Customer Value            -0.289144\n",
       "Churn                      1.000000\n",
       "Name: Churn, dtype: float64"
      ]
     },
     "execution_count": 72,
     "metadata": {},
     "output_type": "execute_result"
    }
   ],
   "source": [
    "# customer churn datset\n",
    "df.corr()['Churn']"
   ]
  },
  {
   "cell_type": "code",
   "execution_count": 84,
   "id": "254351dd",
   "metadata": {},
   "outputs": [],
   "source": [
    "# customer churn dataset\n",
    "df_selected = df[['Call Failure','Complains', 'Subscription Length', 'Charge Amount', 'Seconds of Use', 'Frequency of use', 'Frequency of SMS', 'Distinct Called Numbers','Status', 'Customer Value','Churn']]"
   ]
  },
  {
   "cell_type": "code",
   "execution_count": 85,
   "id": "82ea608b",
   "metadata": {},
   "outputs": [
    {
     "data": {
      "text/html": [
       "<div>\n",
       "<style scoped>\n",
       "    .dataframe tbody tr th:only-of-type {\n",
       "        vertical-align: middle;\n",
       "    }\n",
       "\n",
       "    .dataframe tbody tr th {\n",
       "        vertical-align: top;\n",
       "    }\n",
       "\n",
       "    .dataframe thead th {\n",
       "        text-align: right;\n",
       "    }\n",
       "</style>\n",
       "<table border=\"1\" class=\"dataframe\">\n",
       "  <thead>\n",
       "    <tr style=\"text-align: right;\">\n",
       "      <th></th>\n",
       "      <th>Call Failure</th>\n",
       "      <th>Complains</th>\n",
       "      <th>Subscription Length</th>\n",
       "      <th>Charge Amount</th>\n",
       "      <th>Seconds of Use</th>\n",
       "      <th>Frequency of use</th>\n",
       "      <th>Frequency of SMS</th>\n",
       "      <th>Distinct Called Numbers</th>\n",
       "      <th>Status</th>\n",
       "      <th>Customer Value</th>\n",
       "      <th>Churn</th>\n",
       "    </tr>\n",
       "  </thead>\n",
       "  <tbody>\n",
       "    <tr>\n",
       "      <th>0</th>\n",
       "      <td>8</td>\n",
       "      <td>0</td>\n",
       "      <td>38</td>\n",
       "      <td>0</td>\n",
       "      <td>4370</td>\n",
       "      <td>71</td>\n",
       "      <td>5</td>\n",
       "      <td>17</td>\n",
       "      <td>1</td>\n",
       "      <td>197.640</td>\n",
       "      <td>0</td>\n",
       "    </tr>\n",
       "    <tr>\n",
       "      <th>1</th>\n",
       "      <td>0</td>\n",
       "      <td>0</td>\n",
       "      <td>39</td>\n",
       "      <td>0</td>\n",
       "      <td>318</td>\n",
       "      <td>5</td>\n",
       "      <td>7</td>\n",
       "      <td>4</td>\n",
       "      <td>2</td>\n",
       "      <td>46.035</td>\n",
       "      <td>0</td>\n",
       "    </tr>\n",
       "    <tr>\n",
       "      <th>2</th>\n",
       "      <td>10</td>\n",
       "      <td>0</td>\n",
       "      <td>37</td>\n",
       "      <td>0</td>\n",
       "      <td>2453</td>\n",
       "      <td>60</td>\n",
       "      <td>359</td>\n",
       "      <td>24</td>\n",
       "      <td>1</td>\n",
       "      <td>1536.520</td>\n",
       "      <td>0</td>\n",
       "    </tr>\n",
       "    <tr>\n",
       "      <th>3</th>\n",
       "      <td>10</td>\n",
       "      <td>0</td>\n",
       "      <td>38</td>\n",
       "      <td>0</td>\n",
       "      <td>4198</td>\n",
       "      <td>66</td>\n",
       "      <td>1</td>\n",
       "      <td>35</td>\n",
       "      <td>1</td>\n",
       "      <td>240.020</td>\n",
       "      <td>0</td>\n",
       "    </tr>\n",
       "    <tr>\n",
       "      <th>4</th>\n",
       "      <td>3</td>\n",
       "      <td>0</td>\n",
       "      <td>38</td>\n",
       "      <td>0</td>\n",
       "      <td>2393</td>\n",
       "      <td>58</td>\n",
       "      <td>2</td>\n",
       "      <td>33</td>\n",
       "      <td>1</td>\n",
       "      <td>145.805</td>\n",
       "      <td>0</td>\n",
       "    </tr>\n",
       "  </tbody>\n",
       "</table>\n",
       "</div>"
      ],
      "text/plain": [
       "   Call Failure  Complains  Subscription Length  Charge Amount  \\\n",
       "0             8          0                   38              0   \n",
       "1             0          0                   39              0   \n",
       "2            10          0                   37              0   \n",
       "3            10          0                   38              0   \n",
       "4             3          0                   38              0   \n",
       "\n",
       "   Seconds of Use  Frequency of use  Frequency of SMS  \\\n",
       "0            4370                71                 5   \n",
       "1             318                 5                 7   \n",
       "2            2453                60               359   \n",
       "3            4198                66                 1   \n",
       "4            2393                58                 2   \n",
       "\n",
       "   Distinct Called Numbers  Status  Customer Value  Churn  \n",
       "0                       17       1         197.640      0  \n",
       "1                        4       2          46.035      0  \n",
       "2                       24       1        1536.520      0  \n",
       "3                       35       1         240.020      0  \n",
       "4                       33       1         145.805      0  "
      ]
     },
     "execution_count": 85,
     "metadata": {},
     "output_type": "execute_result"
    }
   ],
   "source": [
    "df_selected.head()"
   ]
  },
  {
   "cell_type": "code",
   "execution_count": 86,
   "id": "87327fb7",
   "metadata": {},
   "outputs": [
    {
     "name": "stdout",
     "output_type": "stream",
     "text": [
      "correlation of features with output :\n",
      "Call Failure              -0.008987\n",
      "Complains                  0.532053\n",
      "Subscription Length       -0.032588\n",
      "Charge Amount             -0.202305\n",
      "Seconds of Use            -0.298935\n",
      "Frequency of use          -0.303337\n",
      "Frequency of SMS          -0.220754\n",
      "Distinct Called Numbers   -0.278867\n",
      "Status                     0.498976\n",
      "Customer Value            -0.289144\n",
      "Churn                      1.000000\n",
      "Name: Churn, dtype: float64\n"
     ]
    }
   ],
   "source": [
    "print(\"correlation of features with output :\")\n",
    "print(df_selected.corr()['Churn'])\n",
    "columns = list(df_selected.columns)\n",
    "corr_list = list(abs(df_selected.corr()['Churn']))[0:-1]\n",
    "array_selected = df_selected.values\n",
    "input_idx = [i for i in range(len(columns) - 1)]\n",
    "output_idx = [input_idx[-1] + 1]"
   ]
  },
  {
   "cell_type": "code",
   "execution_count": 87,
   "id": "a326b102",
   "metadata": {},
   "outputs": [],
   "source": [
    "X = array_selected[:,input_idx]\n",
    "y = array_selected[:,output_idx].astype('int')"
   ]
  },
  {
   "cell_type": "code",
   "execution_count": 88,
   "id": "52887428",
   "metadata": {},
   "outputs": [],
   "source": [
    "def choose_features(num_of_features_choosen):\n",
    "    temp1 = list(np.argsort(corr_list)[::-1][:num_best_features])\n",
    "    temp2 = [input_idx[val] for val in temp1]\n",
    "    choosen_features = [columns[val] for val in temp2]\n",
    "    return choosen_features"
   ]
  },
  {
   "cell_type": "code",
   "execution_count": 89,
   "id": "35861b5e",
   "metadata": {},
   "outputs": [],
   "source": [
    "# MAX_DEGREE = 5\n",
    "# num_best_features_list = [i for i in range(1,len(columns))]\n",
    "# n_list = [i for i in range(1,MAX_DEGREE + 1)] # degree list\n",
    "# for num_best_features in num_best_features_list:\n",
    "#     choosen_features = choose_features(num_best_features)\n",
    "#     print(\"\\nchoosen features :\\n\",choosen_features)\n",
    "#     input_features = np.array(df_selected[choosen_features]).reshape(-1,len(choosen_features))\n",
    "#     output_features = np.array(df_selected[['Churn']]).reshape(-1,1)\n",
    "\n",
    "#     X_train, X_test, y_train, y_test = train_test_split(input_features, output_features, test_size = 0.25)\n",
    "\n",
    "#     scaler = MinMaxScaler()\n",
    "#     # transform data\n",
    "#     X_train_scaled = scaler.fit_transform(X_train)\n",
    "#     X_test_scaled = scaler.fit_transform(X_test)\n",
    "#     y_train_scaled = scaler.fit_transform(y_train)\n",
    "#     y_test_scaled = scaler.fit_transform(y_test)\n",
    "#     for n in n_list:\n",
    "#         # frequentist classification\n",
    "#         poly = PolynomialFeatures(degree = n, interaction_only=False, include_bias=False)\n",
    "#         X_train_scaled_poly = poly.fit_transform(X_train_scaled)\n",
    "#         X_test_scaled_poly = poly.fit_transform(X_test_scaled)\n",
    "        \n",
    "#         logisticRegrPoly = LogisticRegression()\n",
    "#         logisticRegrPoly.fit(X_train_scaled_poly, y_train_scaled.flatten())\n",
    "        \n",
    "# #         print(f\"coeff for degree = {n} is {linearRegrPoly.coef_}\")\n",
    "# #         print(f\"intercept for degree = {n} is {linearRegrPoly.intercept_}\")\n",
    "        \n",
    "#         score = logisticRegrPoly.score(X_test_scaled_poly, y_test_scaled.flatten())\n",
    "#         print(f\"accuracy with degree = {n} is {score}\")"
   ]
  },
  {
   "cell_type": "markdown",
   "id": "7a8866c0",
   "metadata": {},
   "source": [
    "using pca"
   ]
  },
  {
   "cell_type": "code",
   "execution_count": 90,
   "id": "c64fb14c",
   "metadata": {},
   "outputs": [
    {
     "name": "stdout",
     "output_type": "stream",
     "text": [
      "\n",
      "choosen features :\n",
      " ['Complains', 'Status', 'Frequency of use', 'Seconds of Use', 'Customer Value', 'Distinct Called Numbers', 'Frequency of SMS', 'Charge Amount', 'Subscription Length', 'Call Failure']\n"
     ]
    }
   ],
   "source": [
    "n = 1\n",
    "num_best_features = 10\n",
    "choosen_features = choose_features(num_best_features)\n",
    "print(\"\\nchoosen features :\\n\",choosen_features)\n",
    "input_features = np.array(df_selected[choosen_features]).reshape(-1,len(choosen_features))\n",
    "output_features = np.array(df_selected[['Churn']]).reshape(-1,1)\n",
    "\n",
    "X_train, X_test, y_train, y_test = train_test_split(input_features, output_features, test_size = 0.25)\n",
    "scaler = MinMaxScaler()\n",
    "# transform data\n",
    "X_train_scaled = scaler.fit_transform(X_train)\n",
    "X_test_scaled = scaler.fit_transform(X_test)\n",
    "y_train_scaled = scaler.fit_transform(y_train)\n",
    "y_test_scaled = scaler.fit_transform(y_test)"
   ]
  },
  {
   "cell_type": "code",
   "execution_count": 91,
   "id": "6e05391c",
   "metadata": {
    "scrolled": false
   },
   "outputs": [
    {
     "name": "stdout",
     "output_type": "stream",
     "text": [
      "[0.45, 0.17, 0.13, 0.1, 0.05, 0.04, 0.02, 0.02, 0.0, 0.0]\n"
     ]
    },
    {
     "data": {
      "image/png": "[encoded data removed]",
      "text/plain": [
       "<Figure size 640x480 with 1 Axes>"
      ]
     },
     "metadata": {},
     "output_type": "display_data"
    }
   ],
   "source": [
    "pca = PCA()\n",
    "X_train_scaled = pca.fit_transform(X_train_scaled)\n",
    "X_test_scaled = pca.transform(X_test_scaled)\n",
    "\n",
    "explained_variance = pca.explained_variance_ratio_\n",
    "explained_variance=[round(elem,2) for elem in explained_variance]\n",
    "print(explained_variance)\n",
    "x_bar = [i for i in range(1,len(explained_variance)+1)]\n",
    "fig = plt.bar(x =x_bar, height=explained_variance)\n",
    "plt.bar_label(labels=explained_variance,container=fig)\n",
    "\n",
    "plt.title('Variance explained with number of features using PCA')\n",
    "plt.xlabel(\"number of features\")\n",
    "plt.ylabel(\"variance\")\n",
    "plt.tight_layout()\n",
    "plt.savefig(\"plots/variance_explained_pca_logistic.jpg\",dpi=150)"
   ]
  },
  {
   "cell_type": "code",
   "execution_count": 92,
   "id": "899330f3",
   "metadata": {},
   "outputs": [],
   "source": [
    "# pca = PCA(n_components=10)\n",
    "# X_train_scaled = pca.fit_transform(X_train_scaled)\n",
    "# X_test_scaled = pca.transform(X_test_scaled)"
   ]
  },
  {
   "cell_type": "code",
   "execution_count": 93,
   "id": "ba520ffb",
   "metadata": {},
   "outputs": [
    {
     "name": "stdout",
     "output_type": "stream",
     "text": [
      "accuracy with degree = 1 is 0.8895939086294417\n",
      "sensitivity with degree = 1 is 0.40310077519379844\n",
      "F Score with degree = 1 is 0.5445026178010471\n",
      "accuracy with degree = 2 is 0.9035532994923858\n",
      "sensitivity with degree = 2 is 0.43410852713178294\n",
      "F Score with degree = 2 is 0.5957446808510639\n",
      "accuracy with degree = 3 is 0.9060913705583756\n",
      "sensitivity with degree = 3 is 0.4496124031007752\n",
      "F Score with degree = 3 is 0.6105263157894736\n",
      "accuracy with degree = 4 is 0.9060913705583756\n",
      "sensitivity with degree = 4 is 0.4573643410852713\n",
      "F Score with degree = 4 is 0.6145833333333333\n",
      "accuracy with degree = 5 is 0.9073604060913706\n",
      "sensitivity with degree = 5 is 0.46511627906976744\n",
      "F Score with degree = 5 is 0.6217616580310881\n"
     ]
    },
    {
     "data": {
      "image/png": "[encoded data removed]",
      "text/plain": [
       "<Figure size 640x480 with 1 Axes>"
      ]
     },
     "metadata": {},
     "output_type": "display_data"
    }
   ],
   "source": [
    "MAX_DEGREE = 5\n",
    "n_list = [i for i in range(1,MAX_DEGREE + 1)] # degree list\n",
    "classification_score = []\n",
    "sensitivity_score = []\n",
    "F_score = []\n",
    "for n in n_list:\n",
    "    # frequentist classification\n",
    "    poly = PolynomialFeatures(degree = n, interaction_only=False, include_bias=False)\n",
    "    X_train_scaled_poly = poly.fit_transform(X_train_scaled)\n",
    "    X_test_scaled_poly = poly.fit_transform(X_test_scaled)\n",
    "\n",
    "    logisticRegrPoly = LogisticRegression()\n",
    "    logisticRegrPoly.fit(X_train_scaled_poly, y_train_scaled.flatten())\n",
    "\n",
    "    score = logisticRegrPoly.score(X_test_scaled_poly, y_test_scaled.flatten())\n",
    "    y_pred_scaled = logisticRegrPoly.predict(X_test_scaled_poly)\n",
    "    confusion = confusion_matrix(y_test_scaled,y_pred_scaled)\n",
    "    TP = confusion[1,1] # true positive\n",
    "    TN = confusion[0,0] # true negatives\n",
    "    FP = confusion[0,1] # false positives\n",
    "    FN = confusion[1,0] # false negatives\n",
    "    sensitivity = TP / float(TP+FN)\n",
    "    fscore = f1_score(y_test_scaled,y_pred_scaled)\n",
    "    print(f\"accuracy with degree = {n} is {score}\")\n",
    "    print(f\"sensitivity with degree = {n} is {sensitivity}\")\n",
    "    print(f\"F Score with degree = {n} is {fscore}\")\n",
    "#     print(logisticRegrPoly.coef_)\n",
    "    classification_score.append(score*100)\n",
    "    sensitivity_score.append(sensitivity*100)\n",
    "    F_score.append(fscore*100)\n",
    "    \n",
    "\n",
    "x = [i for i in range(1,len(classification_score)+1)]\n",
    "plt.plot(x,classification_score,'b-')\n",
    "plt.plot(x,F_score,'r-')\n",
    "plt.xlabel(\"polynomial degree\")\n",
    "plt.ylabel(r\"Accuracy(percentage), F1-Score(percentage)\")\n",
    "\n",
    "plt.title('choosing degree of polynomial')\n",
    "plt.legend(['accuracy','F1-Score'])\n",
    "plt.tight_layout()\n",
    "plt.savefig(\"plots/polynomial_degree_pca_logistic.jpg\",dpi=150)\n",
    "\n",
    "plt.show()"
   ]
  },
  {
   "cell_type": "markdown",
   "id": "24451562",
   "metadata": {},
   "source": [
    "Bayesian Ridge"
   ]
  },
  {
   "cell_type": "code",
   "execution_count": 94,
   "id": "3b8ea5d8",
   "metadata": {},
   "outputs": [
    {
     "name": "stdout",
     "output_type": "stream",
     "text": [
      "accuracy with degree = 1 is 0.8984771573604061\n",
      "sensitivity with degree = 1 is 0.4186046511627907\n",
      "F Score with degree = 1 is 0.574468085106383\n",
      "accuracy with degree = 2 is 0.9124365482233503\n",
      "sensitivity with degree = 2 is 0.5193798449612403\n",
      "F Score with degree = 2 is 0.6600985221674878\n",
      "accuracy with degree = 3 is 0.9517766497461929\n",
      "sensitivity with degree = 3 is 0.7906976744186046\n",
      "F Score with degree = 3 is 0.8429752066115702\n",
      "accuracy with degree = 4 is 0.950507614213198\n",
      "sensitivity with degree = 4 is 0.7829457364341085\n",
      "F Score with degree = 4 is 0.8381742738589212\n",
      "accuracy with degree = 5 is 0.950507614213198\n",
      "sensitivity with degree = 5 is 0.7829457364341085\n",
      "F Score with degree = 5 is 0.8381742738589212\n"
     ]
    },
    {
     "data": {
      "image/png": "[encoded data removed]",
      "text/plain": [
       "<Figure size 640x480 with 1 Axes>"
      ]
     },
     "metadata": {},
     "output_type": "display_data"
    }
   ],
   "source": [
    "MAX_DEGREE = 5\n",
    "n_list = [i for i in range(1,MAX_DEGREE + 1)] # degree list\n",
    "classification_score = []\n",
    "sensitivity_score = []\n",
    "F_score = []\n",
    "for n in n_list:\n",
    "    \n",
    "    # bayesian ridge classification\n",
    "    poly = PolynomialFeatures(degree = n, interaction_only=False, include_bias=False)\n",
    "    X_train_scaled_poly = poly.fit_transform(X_train_scaled)\n",
    "    X_test_scaled_poly = poly.fit_transform(X_test_scaled)\n",
    "\n",
    "    clf = linear_model.BayesianRidge()\n",
    "    clf.fit(X_train_scaled_poly, y_train_scaled.flatten())\n",
    "#     print(clf.coef_)\n",
    "    \n",
    "    predictions = []\n",
    "    for elem in clf.predict(X_test_scaled_poly):\n",
    "        if(elem<0.5):\n",
    "            predictions.append(0)\n",
    "        else:\n",
    "            predictions.append(1)\n",
    "\n",
    "    y_pred_scaled = np.array(predictions).reshape(-1,1)\n",
    "    \n",
    "    correct = 0\n",
    "    for i in range(len(predictions)):\n",
    "        if(predictions[i]==list(y_test_scaled.flatten())[i]):\n",
    "            correct = correct + 1\n",
    "\n",
    "    score = correct/len(predictions)\n",
    "\n",
    "    confusion = confusion_matrix(y_test_scaled,y_pred_scaled)\n",
    "    TP = confusion[1,1] # true positive\n",
    "    TN = confusion[0,0] # true negatives\n",
    "    FP = confusion[0,1] # false positives\n",
    "    FN = confusion[1,0] # false negatives\n",
    "    sensitivity = TP / float(TP+FN)\n",
    "    fscore = f1_score(y_test_scaled,y_pred_scaled)\n",
    "    print(f\"accuracy with degree = {n} is {score}\")\n",
    "    print(f\"sensitivity with degree = {n} is {sensitivity}\")\n",
    "    print(f\"F Score with degree = {n} is {fscore}\")\n",
    "    classification_score.append(score*100)\n",
    "    sensitivity_score.append(sensitivity*100)\n",
    "    F_score.append(fscore*100)\n",
    "\n",
    "x = [i for i in range(1,len(classification_score)+1)]\n",
    "plt.plot(x,classification_score,'b-')\n",
    "plt.plot(x,F_score,'r-')\n",
    "plt.xlabel(\"polynomial degree\")\n",
    "plt.ylabel(r\"Accuracy(percentage), F1-Score(percentage)\")\n",
    "\n",
    "plt.title('choosing degree of polynomial')\n",
    "plt.legend(['accuracy','F1-Score'])\n",
    "plt.tight_layout()\n",
    "plt.savefig(\"plots/polynomial_degree_pca_logistic_bayesian_ridge.jpg\",dpi=150)\n",
    "\n",
    "plt.show()"
   ]
  },
  {
   "cell_type": "code",
   "execution_count": null,
   "id": "93edc567",
   "metadata": {},
   "outputs": [],
   "source": []
  }
 ],
 "metadata": {
  "kernelspec": {
   "display_name": "BL_pymc3",
   "language": "python",
   "name": "bl_pymc3"
  },
  "language_info": {
   "codemirror_mode": {
    "name": "ipython",
    "version": 3
   },
   "file_extension": ".py",
   "mimetype": "text/x-python",
   "name": "python",
   "nbconvert_exporter": "python",
   "pygments_lexer": "ipython3",
   "version": "3.10.10"
  }
 },
 "nbformat": 4,
 "nbformat_minor": 5
}
