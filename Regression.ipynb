{
 "cells": [
  {
   "cell_type": "code",
   "execution_count": 1,
   "id": "55a33d6f",
   "metadata": {},
   "outputs": [],
   "source": [
    "import pandas as pd\n",
    "import numpy as np\n",
    "import matplotlib.pyplot as plt\n",
    "from sklearn import preprocessing, svm\n",
    "from sklearn.model_selection import train_test_split\n",
    "from sklearn.linear_model import LinearRegression\n",
    "# from sklearn.kernel_ridge import KernelRidge\n",
    "import seaborn as sns\n",
    "from numpy import asarray\n",
    "from sklearn.preprocessing import MinMaxScaler\n",
    "from sklearn.metrics import mean_squared_error\n",
    "from sklearn import linear_model\n",
    "from sklearn.preprocessing import PolynomialFeatures\n",
    "from sklearn.preprocessing import StandardScaler\n",
    "from sklearn.decomposition import PCA"
   ]
  },
  {
   "cell_type": "code",
   "execution_count": 2,
   "id": "cf0a1bab",
   "metadata": {
    "scrolled": true
   },
   "outputs": [
    {
     "name": "stdout",
     "output_type": "stream",
     "text": [
      "      Call Failure  Complains  Subscription Length  Charge Amount  \\\n",
      "0                8          0                   38              0   \n",
      "1                0          0                   39              0   \n",
      "2               10          0                   37              0   \n",
      "3               10          0                   38              0   \n",
      "4                3          0                   38              0   \n",
      "...            ...        ...                  ...            ...   \n",
      "3145            21          0                   19              2   \n",
      "3146            17          0                   17              1   \n",
      "3147            13          0                   18              4   \n",
      "3148             7          0                   11              2   \n",
      "3149             8          1                   11              2   \n",
      "\n",
      "      Seconds of Use  Frequency of use  Frequency of SMS  \\\n",
      "0               4370                71                 5   \n",
      "1                318                 5                 7   \n",
      "2               2453                60               359   \n",
      "3               4198                66                 1   \n",
      "4               2393                58                 2   \n",
      "...              ...               ...               ...   \n",
      "3145            6697               147                92   \n",
      "3146            9237               177                80   \n",
      "3147            3157                51                38   \n",
      "3148            4695                46               222   \n",
      "3149            1792                25                 7   \n",
      "\n",
      "      Distinct Called Numbers  Age Group  Tariff Plan  Status  Age  \\\n",
      "0                          17          3            1       1   30   \n",
      "1                           4          2            1       2   25   \n",
      "2                          24          3            1       1   30   \n",
      "3                          35          1            1       1   15   \n",
      "4                          33          1            1       1   15   \n",
      "...                       ...        ...          ...     ...  ...   \n",
      "3145                       44          2            2       1   25   \n",
      "3146                       42          5            1       1   55   \n",
      "3147                       21          3            1       1   30   \n",
      "3148                       12          3            1       1   30   \n",
      "3149                        9          3            1       1   30   \n",
      "\n",
      "      Customer Value  Churn  \n",
      "0            197.640      0  \n",
      "1             46.035      0  \n",
      "2           1536.520      0  \n",
      "3            240.020      0  \n",
      "4            145.805      0  \n",
      "...              ...    ...  \n",
      "3145         721.980      0  \n",
      "3146         261.210      0  \n",
      "3147         280.320      0  \n",
      "3148        1077.640      0  \n",
      "3149         100.680      1  \n",
      "\n",
      "[3150 rows x 14 columns]\n"
     ]
    }
   ],
   "source": [
    "# customer churn dataset\n",
    "df = pd.read_csv(r'C:\\Users\\vidha\\Desktop\\IISc\\CP218 - Theory and applications of bayesian learning\\Project2\\Datasets\\Iranian-Churn-Dataset-Data-Set\\Customer Churn.csv')\n",
    "print(df)"
   ]
  },
  {
   "cell_type": "code",
   "execution_count": 3,
   "id": "97cb080a",
   "metadata": {},
   "outputs": [
    {
     "data": {
      "text/plain": [
       "Call Failure               0.121225\n",
       "Complains                 -0.132895\n",
       "Subscription Length        0.109565\n",
       "Charge Amount              0.169428\n",
       "Seconds of Use             0.415087\n",
       "Frequency of use           0.401572\n",
       "Frequency of SMS           0.924877\n",
       "Distinct Called Numbers    0.284807\n",
       "Age Group                 -0.183481\n",
       "Tariff Plan                0.252298\n",
       "Status                    -0.412990\n",
       "Age                       -0.220362\n",
       "Customer Value             1.000000\n",
       "Churn                     -0.289144\n",
       "Name: Customer Value, dtype: float64"
      ]
     },
     "execution_count": 3,
     "metadata": {},
     "output_type": "execute_result"
    }
   ],
   "source": [
    "# customer churn datset\n",
    "df.corr()['Customer Value']"
   ]
  },
  {
   "cell_type": "code",
   "execution_count": 4,
   "id": "8ea4e11c",
   "metadata": {},
   "outputs": [],
   "source": [
    "# customer churn dataset\n",
    "df_selected = df[['Call Failure', 'Subscription Length', 'Charge Amount', 'Seconds of Use', 'Frequency of use', 'Frequency of SMS', 'Distinct Called Numbers', 'Customer Value']]\n",
    "# df_selected = df[['Call Failure', 'Complains', 'Subscription Length', 'Charge Amount',\n",
    "#                   'Seconds of Use', 'Frequency of use', 'Frequency of SMS',\n",
    "#                   'Distinct Called Numbers', 'Age Group', 'Tariff Plan', 'Status', 'Age',\n",
    "#                   'Customer Value']]"
   ]
  },
  {
   "cell_type": "code",
   "execution_count": 5,
   "id": "ff523682",
   "metadata": {},
   "outputs": [
    {
     "data": {
      "text/html": [
       "<div>\n",
       "<style scoped>\n",
       "    .dataframe tbody tr th:only-of-type {\n",
       "        vertical-align: middle;\n",
       "    }\n",
       "\n",
       "    .dataframe tbody tr th {\n",
       "        vertical-align: top;\n",
       "    }\n",
       "\n",
       "    .dataframe thead th {\n",
       "        text-align: right;\n",
       "    }\n",
       "</style>\n",
       "<table border=\"1\" class=\"dataframe\">\n",
       "  <thead>\n",
       "    <tr style=\"text-align: right;\">\n",
       "      <th></th>\n",
       "      <th>Call Failure</th>\n",
       "      <th>Subscription Length</th>\n",
       "      <th>Charge Amount</th>\n",
       "      <th>Seconds of Use</th>\n",
       "      <th>Frequency of use</th>\n",
       "      <th>Frequency of SMS</th>\n",
       "      <th>Distinct Called Numbers</th>\n",
       "      <th>Customer Value</th>\n",
       "    </tr>\n",
       "  </thead>\n",
       "  <tbody>\n",
       "    <tr>\n",
       "      <th>0</th>\n",
       "      <td>8</td>\n",
       "      <td>38</td>\n",
       "      <td>0</td>\n",
       "      <td>4370</td>\n",
       "      <td>71</td>\n",
       "      <td>5</td>\n",
       "      <td>17</td>\n",
       "      <td>197.640</td>\n",
       "    </tr>\n",
       "    <tr>\n",
       "      <th>1</th>\n",
       "      <td>0</td>\n",
       "      <td>39</td>\n",
       "      <td>0</td>\n",
       "      <td>318</td>\n",
       "      <td>5</td>\n",
       "      <td>7</td>\n",
       "      <td>4</td>\n",
       "      <td>46.035</td>\n",
       "    </tr>\n",
       "    <tr>\n",
       "      <th>2</th>\n",
       "      <td>10</td>\n",
       "      <td>37</td>\n",
       "      <td>0</td>\n",
       "      <td>2453</td>\n",
       "      <td>60</td>\n",
       "      <td>359</td>\n",
       "      <td>24</td>\n",
       "      <td>1536.520</td>\n",
       "    </tr>\n",
       "    <tr>\n",
       "      <th>3</th>\n",
       "      <td>10</td>\n",
       "      <td>38</td>\n",
       "      <td>0</td>\n",
       "      <td>4198</td>\n",
       "      <td>66</td>\n",
       "      <td>1</td>\n",
       "      <td>35</td>\n",
       "      <td>240.020</td>\n",
       "    </tr>\n",
       "    <tr>\n",
       "      <th>4</th>\n",
       "      <td>3</td>\n",
       "      <td>38</td>\n",
       "      <td>0</td>\n",
       "      <td>2393</td>\n",
       "      <td>58</td>\n",
       "      <td>2</td>\n",
       "      <td>33</td>\n",
       "      <td>145.805</td>\n",
       "    </tr>\n",
       "  </tbody>\n",
       "</table>\n",
       "</div>"
      ],
      "text/plain": [
       "   Call Failure  Subscription Length  Charge Amount  Seconds of Use  \\\n",
       "0             8                   38              0            4370   \n",
       "1             0                   39              0             318   \n",
       "2            10                   37              0            2453   \n",
       "3            10                   38              0            4198   \n",
       "4             3                   38              0            2393   \n",
       "\n",
       "   Frequency of use  Frequency of SMS  Distinct Called Numbers  Customer Value  \n",
       "0                71                 5                       17         197.640  \n",
       "1                 5                 7                        4          46.035  \n",
       "2                60               359                       24        1536.520  \n",
       "3                66                 1                       35         240.020  \n",
       "4                58                 2                       33         145.805  "
      ]
     },
     "execution_count": 5,
     "metadata": {},
     "output_type": "execute_result"
    }
   ],
   "source": [
    "df_selected.head()"
   ]
  },
  {
   "cell_type": "code",
   "execution_count": 6,
   "id": "435525c8",
   "metadata": {},
   "outputs": [
    {
     "name": "stdout",
     "output_type": "stream",
     "text": [
      "correlation of features with output :\n",
      "Call Failure               0.121225\n",
      "Subscription Length        0.109565\n",
      "Charge Amount              0.169428\n",
      "Seconds of Use             0.415087\n",
      "Frequency of use           0.401572\n",
      "Frequency of SMS           0.924877\n",
      "Distinct Called Numbers    0.284807\n",
      "Customer Value             1.000000\n",
      "Name: Customer Value, dtype: float64\n"
     ]
    }
   ],
   "source": [
    "print(\"correlation of features with output :\")\n",
    "print(df_selected.corr()['Customer Value'])\n",
    "columns = list(df_selected.columns)\n",
    "corr_list = list(abs(df_selected.corr()['Customer Value']))[0:-1]\n",
    "array_selected = df_selected.values\n",
    "input_idx = [i for i in range(len(columns) - 1)]\n",
    "output_idx = [input_idx[-1] + 1]"
   ]
  },
  {
   "cell_type": "code",
   "execution_count": 7,
   "id": "61da501d",
   "metadata": {},
   "outputs": [],
   "source": [
    "X = array_selected[:,input_idx]\n",
    "y = array_selected[:,output_idx].astype('int')"
   ]
  },
  {
   "cell_type": "code",
   "execution_count": 8,
   "id": "b56a92a1",
   "metadata": {},
   "outputs": [],
   "source": [
    "def choose_features(num_of_features_choosen):\n",
    "    temp1 = list(np.argsort(corr_list)[::-1][:num_best_features])\n",
    "    temp2 = [input_idx[val] for val in temp1]\n",
    "    choosen_features = [columns[val] for val in temp2]\n",
    "    return choosen_features"
   ]
  },
  {
   "cell_type": "code",
   "execution_count": 9,
   "id": "101e1721",
   "metadata": {},
   "outputs": [],
   "source": [
    "# MAX_DEGREE = 7\n",
    "# num_best_features_list = [i for i in range(1,len(columns))]\n",
    "# n_list = [i for i in range(1,MAX_DEGREE + 1)] # degree list\n",
    "# for num_best_features in num_best_features_list:\n",
    "#     choosen_features = choose_features(num_best_features)\n",
    "#     print(\"\\nchoosen features :\\n\",choosen_features)\n",
    "#     input_features = np.array(df_selected[choosen_features]).reshape(-1,len(choosen_features))\n",
    "#     output_features = np.array(df_selected[['Customer Value']]).reshape(-1,1)\n",
    "\n",
    "#     X_train, X_test, y_train, y_test = train_test_split(input_features, output_features, test_size = 0.25)\n",
    "\n",
    "#     scaler = MinMaxScaler()\n",
    "#     # transform data\n",
    "#     X_train_scaled = scaler.fit_transform(X_train)\n",
    "#     X_test_scaled = scaler.fit_transform(X_test)\n",
    "#     y_train_scaled = scaler.fit_transform(y_train)\n",
    "#     y_test_scaled = scaler.fit_transform(y_test)\n",
    "#     for n in n_list:\n",
    "#         # frequentist regression\n",
    "#         poly = PolynomialFeatures(degree = n, interaction_only=False, include_bias=False)\n",
    "#         X_train_scaled_poly = poly.fit_transform(X_train_scaled)\n",
    "#         X_test_scaled_poly = poly.fit_transform(X_test_scaled)\n",
    "        \n",
    "#         linearRegrPoly = LinearRegression()\n",
    "#         linearRegrPoly.fit(X_train_scaled_poly, y_train_scaled.flatten())\n",
    "        \n",
    "# #         print(f\"coeff for degree = {n} is {linearRegrPoly.coef_}\")\n",
    "# #         print(f\"intercept for degree = {n} is {linearRegrPoly.intercept_}\")\n",
    "        \n",
    "#         score = linearRegrPoly.score(X_test_scaled_poly, y_test_scaled.flatten())\n",
    "#         print(f\"R2 score with degree = {n} is {score}\")\n",
    "\n",
    "#         y_pred = linearRegrPoly.predict(X_test_scaled_poly).reshape(-1,1)\n",
    "#         scaled_rmse = np.sqrt(mean_squared_error(y_test_scaled,y_pred))\n",
    "#         print(f\"scaled rmse with degree {n} is : {scaled_rmse}\")\n",
    "\n",
    "#         y_pred = scaler.inverse_transform(y_pred)\n",
    "#         actual_rmse = np.sqrt(mean_squared_error(y_test,y_pred))\n",
    "#         print(f\"scaled rmse with degree {n} is : {actual_rmse}\")"
   ]
  },
  {
   "cell_type": "markdown",
   "id": "46797a8e",
   "metadata": {},
   "source": [
    "using pca"
   ]
  },
  {
   "cell_type": "code",
   "execution_count": 14,
   "id": "73ce6e36",
   "metadata": {},
   "outputs": [
    {
     "name": "stdout",
     "output_type": "stream",
     "text": [
      "\n",
      "choosen features :\n",
      " ['Frequency of SMS', 'Seconds of Use', 'Frequency of use', 'Distinct Called Numbers', 'Charge Amount', 'Call Failure', 'Subscription Length']\n"
     ]
    }
   ],
   "source": [
    "n = 1\n",
    "num_best_features = 7\n",
    "choosen_features = choose_features(num_best_features)\n",
    "print(\"\\nchoosen features :\\n\",choosen_features)\n",
    "input_features = np.array(df_selected[choosen_features]).reshape(-1,len(choosen_features))\n",
    "output_features = np.array(df_selected[['Customer Value']]).reshape(-1,1)\n",
    "\n",
    "X_train, X_test, y_train, y_test = train_test_split(input_features, output_features, test_size = 0.25)\n",
    "\n",
    "scaler = MinMaxScaler()\n",
    "# transform data\n",
    "X_train_scaled = scaler.fit_transform(X_train)\n",
    "X_test_scaled = scaler.fit_transform(X_test)\n",
    "y_train_scaled = scaler.fit_transform(y_train)\n",
    "y_test_scaled = scaler.fit_transform(y_test)"
   ]
  },
  {
   "cell_type": "code",
   "execution_count": 15,
   "id": "34217d3b",
   "metadata": {},
   "outputs": [
    {
     "name": "stdout",
     "output_type": "stream",
     "text": [
      "[0.51, 0.16, 0.14, 0.1, 0.04, 0.04, 0.01]\n"
     ]
    },
    {
     "data": {
      "image/png": "[encoded data removed]",
      "text/plain": [
       "<Figure size 640x480 with 1 Axes>"
      ]
     },
     "metadata": {},
     "output_type": "display_data"
    }
   ],
   "source": [
    "pca = PCA()\n",
    "X_train_scaled = pca.fit_transform(X_train_scaled)\n",
    "X_test_scaled = pca.transform(X_test_scaled)\n",
    "\n",
    "explained_variance = pca.explained_variance_ratio_\n",
    "explained_variance=[round(elem,2) for elem in explained_variance]\n",
    "print(explained_variance)\n",
    "x_bar = [i for i in range(1,len(explained_variance)+1)]\n",
    "fig = plt.bar(x =x_bar, height=explained_variance)\n",
    "plt.bar_label(labels=explained_variance,container=fig)\n",
    "\n",
    "plt.title('Variance explained with number of features using PCA')\n",
    "plt.xlabel(\"number of features\")\n",
    "plt.ylabel(\"variance\")\n",
    "plt.tight_layout()\n",
    "plt.savefig(\"plots/variance_explained_pca_regression.jpg\",dpi=150)"
   ]
  },
  {
   "cell_type": "code",
   "execution_count": 16,
   "id": "349f993b",
   "metadata": {},
   "outputs": [],
   "source": [
    "# pca = PCA(n_components=7)\n",
    "# X_train_scaled = pca.fit_transform(X_train_scaled)\n",
    "# X_test_scaled = pca.transform(X_test_scaled)"
   ]
  },
  {
   "cell_type": "code",
   "execution_count": 17,
   "id": "3eff10d0",
   "metadata": {},
   "outputs": [
    {
     "name": "stdout",
     "output_type": "stream",
     "text": [
      "R2 score with degree = 1 is 0.96472832131099\n",
      "scaled rmse with degree 1 is : 0.04626879707524713\n",
      "scaled rmse with degree 1 is : 98.31379077736811\n",
      "R2 score with degree = 2 is 0.9766855438131529\n",
      "scaled rmse with degree 2 is : 0.03761731456248566\n",
      "scaled rmse with degree 2 is : 79.93077467495205\n",
      "R2 score with degree = 3 is 0.98723945515121\n",
      "scaled rmse with degree 3 is : 0.027829778703157775\n",
      "scaled rmse with degree 3 is : 59.13382697961777\n",
      "R2 score with degree = 4 is 0.9872677268437977\n",
      "scaled rmse with degree 4 is : 0.02779893240160997\n",
      "scaled rmse with degree 4 is : 59.06828352423693\n",
      "R2 score with degree = 5 is 0.9690252807886309\n",
      "scaled rmse with degree 5 is : 0.04335895761618676\n",
      "scaled rmse with degree 5 is : 92.1308475011783\n"
     ]
    },
    {
     "data": {
      "image/png": "[encoded data removed]",
      "text/plain": [
       "<Figure size 640x480 with 1 Axes>"
      ]
     },
     "metadata": {},
     "output_type": "display_data"
    }
   ],
   "source": [
    "MAX_DEGREE = 5\n",
    "n_list = [i for i in range(1,MAX_DEGREE + 1)] # degree list\n",
    "rmse_actual = []\n",
    "r2_score_percent = []\n",
    "for n in n_list:\n",
    "    # frequentist regression\n",
    "    poly = PolynomialFeatures(degree = n, interaction_only=False, include_bias=False)\n",
    "    X_train_scaled_poly = poly.fit_transform(X_train_scaled)\n",
    "    X_test_scaled_poly = poly.fit_transform(X_test_scaled)\n",
    "\n",
    "    linearRegrPoly = LinearRegression()\n",
    "    linearRegrPoly.fit(X_train_scaled_poly, y_train_scaled.flatten())\n",
    "#     print(linearRegrPoly.coef_)\n",
    "\n",
    "    score = linearRegrPoly.score(X_test_scaled_poly, y_test_scaled.flatten())\n",
    "    print(f\"R2 score with degree = {n} is {score}\")\n",
    "    r2_score_percent.append(100*score)\n",
    "    \n",
    "    y_pred = linearRegrPoly.predict(X_test_scaled_poly).reshape(-1,1)\n",
    "    scaled_rmse = np.sqrt(mean_squared_error(y_test_scaled,y_pred))\n",
    "    print(f\"scaled rmse with degree {n} is : {scaled_rmse}\")\n",
    "\n",
    "    y_pred = scaler.inverse_transform(y_pred)\n",
    "    actual_rmse = np.sqrt(mean_squared_error(y_test,y_pred))\n",
    "    print(f\"scaled rmse with degree {n} is : {actual_rmse}\")\n",
    "    rmse_actual.append(actual_rmse)\n",
    "\n",
    "x = [i for i in range(1,len(rmse_actual)+1)]\n",
    "plt.plot(x,rmse_actual,'b-')\n",
    "plt.plot(x,r2_score_percent,'r-')\n",
    "plt.xlabel(\"polynomial degree\")\n",
    "plt.ylabel(r\"RMSE, $R^2$ Score % \")\n",
    "\n",
    "plt.title('choosing degree of polynomial')\n",
    "plt.legend(['RMSE',r'$R^2 Score (percentage)$'])\n",
    "plt.tight_layout()\n",
    "plt.savefig(\"plots/polynomial_degree_pca_regression.jpg\",dpi=150)\n",
    "\n",
    "plt.show()"
   ]
  },
  {
   "cell_type": "markdown",
   "id": "e2a41e17",
   "metadata": {},
   "source": [
    "Bayesian Ridge"
   ]
  },
  {
   "cell_type": "code",
   "execution_count": 18,
   "id": "0cdc68d0",
   "metadata": {},
   "outputs": [
    {
     "name": "stdout",
     "output_type": "stream",
     "text": [
      "R2 score with degree = 1 is 0.9647296287281546\n",
      "scaled rmse with degree 1 is : 0.04626793954333607\n",
      "scaled rmse with degree 1 is : 98.31196865926222\n",
      "R2 score with degree = 2 is 0.9769451101791803\n",
      "scaled rmse with degree 2 is : 0.03740732641669714\n",
      "scaled rmse with degree 2 is : 79.48458346325476\n",
      "R2 score with degree = 3 is 0.9872240312835648\n",
      "scaled rmse with degree 3 is : 0.027846592765512546\n",
      "scaled rmse with degree 3 is : 59.16955417187169\n",
      "R2 score with degree = 4 is 0.9868583839951779\n",
      "scaled rmse with degree 4 is : 0.028242265428169794\n",
      "scaled rmse with degree 4 is : 60.01029527239232\n",
      "R2 score with degree = 5 is 0.9882753688016385\n",
      "scaled rmse with degree 5 is : 0.026676247564896345\n",
      "scaled rmse with degree 5 is : 56.682757875794344\n"
     ]
    },
    {
     "data": {
      "image/png": "[encoded data removed]",
      "text/plain": [
       "<Figure size 640x480 with 1 Axes>"
      ]
     },
     "metadata": {},
     "output_type": "display_data"
    }
   ],
   "source": [
    "MAX_DEGREE = 5\n",
    "n_list = [i for i in range(1,MAX_DEGREE + 1)] # degree list\n",
    "rmse_actual = []\n",
    "r2_score_percent = []\n",
    "for n in n_list:\n",
    "    # bayesian ridge regression\n",
    "    poly = PolynomialFeatures(degree = n, interaction_only=False, include_bias=False)\n",
    "    X_train_scaled_poly = poly.fit_transform(X_train_scaled)\n",
    "    X_test_scaled_poly = poly.fit_transform(X_test_scaled)\n",
    "\n",
    "    clf = linear_model.BayesianRidge()\n",
    "    clf.fit(X_train_scaled_poly, y_train_scaled.flatten())\n",
    "#     print(clf.coef_)\n",
    "\n",
    "    score = clf.score(X_test_scaled_poly, y_test_scaled.flatten())\n",
    "    print(f\"R2 score with degree = {n} is {score}\")\n",
    "    r2_score_percent.append(100*score)\n",
    "    \n",
    "    y_pred = clf.predict(X_test_scaled_poly).reshape(-1,1)\n",
    "    scaled_rmse = np.sqrt(mean_squared_error(y_test_scaled,y_pred))\n",
    "    print(f\"scaled rmse with degree {n} is : {scaled_rmse}\")\n",
    "\n",
    "    y_pred = scaler.inverse_transform(y_pred)\n",
    "    actual_rmse = np.sqrt(mean_squared_error(y_test,y_pred))\n",
    "    print(f\"scaled rmse with degree {n} is : {actual_rmse}\")\n",
    "    rmse_actual.append(actual_rmse)\n",
    "\n",
    "x = [i for i in range(1,len(rmse_actual)+1)]\n",
    "plt.plot(x,rmse_actual,'b-')\n",
    "plt.plot(x,r2_score_percent,'r-')\n",
    "plt.xlabel(\"polynomial degree\")\n",
    "plt.ylabel(r\"RMSE, $R^2$ Score % \")\n",
    "\n",
    "plt.title('choosing degree of polynomial')\n",
    "plt.legend(['RMSE',r'$R^2 Score (percentage)$'])\n",
    "plt.tight_layout()\n",
    "plt.savefig(\"plots/polynomial_degree_pca_bayesain_ridge_regression.jpg\",dpi=150)\n",
    "\n",
    "plt.show()"
   ]
  },
  {
   "cell_type": "code",
   "execution_count": null,
   "id": "2421e487",
   "metadata": {},
   "outputs": [],
   "source": []
  },
  {
   "cell_type": "code",
   "execution_count": null,
   "id": "b315b94b",
   "metadata": {},
   "outputs": [],
   "source": []
  },
  {
   "cell_type": "code",
   "execution_count": null,
   "id": "0c0a48f0",
   "metadata": {},
   "outputs": [],
   "source": []
  },
  {
   "cell_type": "code",
   "execution_count": null,
   "id": "c121f24b",
   "metadata": {},
   "outputs": [],
   "source": []
  },
  {
   "cell_type": "code",
   "execution_count": null,
   "id": "6af1e444",
   "metadata": {},
   "outputs": [],
   "source": []
  },
  {
   "cell_type": "code",
   "execution_count": null,
   "id": "7d5e2519",
   "metadata": {},
   "outputs": [],
   "source": []
  },
  {
   "cell_type": "code",
   "execution_count": null,
   "id": "874a4685",
   "metadata": {},
   "outputs": [],
   "source": []
  },
  {
   "cell_type": "code",
   "execution_count": null,
   "id": "a25ab62b",
   "metadata": {},
   "outputs": [],
   "source": []
  },
  {
   "cell_type": "code",
   "execution_count": null,
   "id": "efc0676c",
   "metadata": {},
   "outputs": [],
   "source": []
  }
 ],
 "metadata": {
  "kernelspec": {
   "display_name": "BL_pymc3",
   "language": "python",
   "name": "bl_pymc3"
  },
  "language_info": {
   "codemirror_mode": {
    "name": "ipython",
    "version": 3
   },
   "file_extension": ".py",
   "mimetype": "text/x-python",
   "name": "python",
   "nbconvert_exporter": "python",
   "pygments_lexer": "ipython3",
   "version": "3.10.10"
  }
 },
 "nbformat": 4,
 "nbformat_minor": 5
}
